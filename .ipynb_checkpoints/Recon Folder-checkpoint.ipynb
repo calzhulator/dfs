{
 "cells": [
  {
   "cell_type": "code",
   "execution_count": 12,
   "metadata": {},
   "outputs": [],
   "source": [
    "import data.databaseManager as dbMgr\n",
    "import pandas as pd"
   ]
  },
  {
   "cell_type": "code",
   "execution_count": 13,
   "metadata": {},
   "outputs": [],
   "source": [
    "gamelog_data = dbMgr.query(\"\"\"select playerid, timeid, stat, value from gameLog gl\n",
    "                join games g on gl.gameid = g.gameid\"\"\")"
   ]
  },
  {
   "cell_type": "code",
   "execution_count": 14,
   "metadata": {},
   "outputs": [],
   "source": [
    "modes = {'HALF': .5,\n",
    "        'FULL': 1,\n",
    "        'STD': 0}\n",
    "scoring_settings = {'fumbles_lost': -2,\n",
    "                   'pass_int': -1,\n",
    "                    'pass_yds': .04,\n",
    "                   'pass_td': 4,\n",
    "                   'rec': None, # to be overriden\n",
    "                   'rec_td': 6,\n",
    "                   'rec_yds': .1,\n",
    "                   'rush_td': 6,\n",
    "                   'rush_yds': .1,}\n",
    "pivoted_data = gamelog_data.pivot_table(index=['timeid', 'playerid'], columns='stat', values='value')\n",
    "filtered_data = pivoted_data[list(scoring_settings.keys())]\n",
    "recon_data = {}\n",
    "for mode in modes:\n",
    "    scoring_settings['rec'] = modes[mode]\n",
    "    recon_data[mode] = (filtered_data * pd.Series(scoring_settings)).sum(axis=1)\n",
    "recon_data = pd.DataFrame(recon_data)"
   ]
  },
  {
   "cell_type": "code",
   "execution_count": 15,
   "metadata": {
    "scrolled": true
   },
   "outputs": [],
   "source": [
    "contest_data = dbMgr.query(\"\"\"select platform, playerid, timeid, points from contestPlayers cp\n",
    "                            join contestStructure c on cp.contestid = c.contestid\n",
    "                            where position not in ('K', 'DST')\"\"\")"
   ]
  },
  {
   "cell_type": "code",
   "execution_count": 16,
   "metadata": {},
   "outputs": [],
   "source": [
    "platforms = contest_data['platform'].unique()"
   ]
  },
  {
   "cell_type": "code",
   "execution_count": 17,
   "metadata": {},
   "outputs": [],
   "source": [
    "contestSettings = {'fanduel': 'HALF',\n",
    "'draftkings': 'FULL',\n",
    "'yahoo': 'HALF'}"
   ]
  },
  {
   "cell_type": "code",
   "execution_count": 18,
   "metadata": {},
   "outputs": [],
   "source": [
    "recon_stats = {}\n",
    "for plat in platforms:\n",
    "    platform_data = contest_data[contest_data['platform'] == plat]\n",
    "    recon_platform = platform_data.set_index(['timeid', 'playerid'])['points']\n",
    "    iter_data = recon_data.copy()\n",
    "    iter_data['recon'] = recon_platform.reindex(iter_data.index)\n",
    "    iter_data = iter_data.dropna()\n",
    "    if plat == 'fanduel':\n",
    "        fanduel_data = iter_data\n",
    "    for col in modes.keys():\n",
    "        recon_stats[(plat, col)] = (iter_data[col] == iter_data['recon'])"
   ]
  },
  {
   "cell_type": "code",
   "execution_count": 19,
   "metadata": {},
   "outputs": [],
   "source": [
    "all_stats = pd.DataFrame(recon_stats).groupby(level=0).sum()"
   ]
  },
  {
   "cell_type": "code",
   "execution_count": 20,
   "metadata": {},
   "outputs": [],
   "source": [
    "for plat in platforms:\n",
    "    assert((all_stats[plat][contestSettings[plat]] == all_stats[plat].max(axis=1)).all())"
   ]
  },
  {
   "cell_type": "code",
   "execution_count": 21,
   "metadata": {},
   "outputs": [],
   "source": [
    "pid = fanduel_data.groupby('playerid')"
   ]
  },
  {
   "cell_type": "code",
   "execution_count": 23,
   "metadata": {
    "scrolled": true
   },
   "outputs": [],
   "source": [
    "recon_points = ((pid['recon'].sum() - pid['HALF'].sum()).abs() / pid['recon'].count())"
   ]
  },
  {
   "cell_type": "code",
   "execution_count": 33,
   "metadata": {},
   "outputs": [],
   "source": [
    "assert(not ((pid['recon'].count() > 5) & (recon_points > 1.0)).any())"
   ]
  },
  {
   "cell_type": "code",
   "execution_count": null,
   "metadata": {},
   "outputs": [],
   "source": []
  },
  {
   "cell_type": "code",
   "execution_count": null,
   "metadata": {},
   "outputs": [],
   "source": []
  },
  {
   "cell_type": "code",
   "execution_count": null,
   "metadata": {},
   "outputs": [],
   "source": []
  },
  {
   "cell_type": "code",
   "execution_count": null,
   "metadata": {},
   "outputs": [],
   "source": []
  }
 ],
 "metadata": {
  "kernelspec": {
   "display_name": "Python 3",
   "language": "python",
   "name": "python3"
  },
  "language_info": {
   "codemirror_mode": {
    "name": "ipython",
    "version": 3
   },
   "file_extension": ".py",
   "mimetype": "text/x-python",
   "name": "python",
   "nbconvert_exporter": "python",
   "pygments_lexer": "ipython3",
   "version": "3.7.1"
  }
 },
 "nbformat": 4,
 "nbformat_minor": 2
}
