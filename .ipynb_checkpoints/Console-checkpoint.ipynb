{
 "cells": [
  {
   "cell_type": "code",
   "execution_count": 1,
   "metadata": {},
   "outputs": [],
   "source": [
    "import data.loader as ld"
   ]
  },
  {
   "cell_type": "code",
   "execution_count": 2,
   "metadata": {},
   "outputs": [
    {
     "name": "stdout",
     "output_type": "stream",
     "text": [
      "Googling results for: profootballreference player Johnson Andre\n",
      "Googling results for: profootballreference player Hauschka Steven\n",
      "Googling results for: profootballreference player Sims Jr Steven\n"
     ]
    }
   ],
   "source": [
    "ld.load_salaries(historical=True)"
   ]
  },
  {
   "cell_type": "code",
   "execution_count": 2,
   "metadata": {},
   "outputs": [
    {
     "name": "stdout",
     "output_type": "stream",
     "text": [
      "Googling results for: profootballreference team fa\n",
      "Googling results for: profootballreference player Steve Smith\n",
      "Ignoring missing player id for : ('Steve Smith', {'position': 'WR', 'year': 2012, 'team': 'FA'})['https://www.pro-football-reference.com/players/S/SmitSt01.htm', 'https://www.pro-football-reference.com/players/S/SmitSt02.htm']\n",
      "Ignoring missing player id for : ('Steve Smith', {'position': 'WR', 'year': 2012, 'team': 'FA'})['https://www.pro-football-reference.com/players/S/SmitSt01.htm', 'https://www.pro-football-reference.com/players/S/SmitSt02.htm']\n",
      "Ignoring missing player id for : ('Steve Smith', {'position': 'WR', 'year': 2012, 'team': 'FA'})['https://www.pro-football-reference.com/players/S/SmitSt01.htm', 'https://www.pro-football-reference.com/players/S/SmitSt02.htm']\n",
      "Ignoring missing player id for : ('Steve Smith', {'position': 'WR', 'year': 2012, 'team': 'FA'})['https://www.pro-football-reference.com/players/S/SmitSt01.htm', 'https://www.pro-football-reference.com/players/S/SmitSt02.htm']\n",
      "Ignoring missing player id for : ('Steve Smith', {'position': 'WR', 'year': 2012, 'team': 'FA'})['https://www.pro-football-reference.com/players/S/SmitSt01.htm', 'https://www.pro-football-reference.com/players/S/SmitSt02.htm']\n",
      "Ignoring missing player id for : ('Steve Smith', {'position': 'WR', 'year': 2012, 'team': 'FA'})['https://www.pro-football-reference.com/players/S/SmitSt01.htm', 'https://www.pro-football-reference.com/players/S/SmitSt02.htm']\n",
      "Ignoring missing player id for : ('Steve Smith', {'position': 'WR', 'year': 2012, 'team': 'FA'})['https://www.pro-football-reference.com/players/S/SmitSt01.htm', 'https://www.pro-football-reference.com/players/S/SmitSt02.htm']\n",
      "Ignoring missing player id for : ('Steve Smith', {'position': 'WR', 'year': 2012, 'team': 'FA'})['https://www.pro-football-reference.com/players/S/SmitSt01.htm', 'https://www.pro-football-reference.com/players/S/SmitSt02.htm']\n",
      "Ignoring missing player id for : ('Steve Smith', {'position': 'WR', 'year': 2012, 'team': 'FA'})['https://www.pro-football-reference.com/players/S/SmitSt01.htm', 'https://www.pro-football-reference.com/players/S/SmitSt02.htm']\n",
      "Ignoring missing player id for : ('Steve Smith', {'position': 'WR', 'year': 2012, 'team': 'FA'})['https://www.pro-football-reference.com/players/S/SmitSt01.htm', 'https://www.pro-football-reference.com/players/S/SmitSt02.htm']\n",
      "Ignoring missing player id for : ('Steve Smith', {'position': 'WR', 'year': 2012, 'team': 'FA'})['https://www.pro-football-reference.com/players/S/SmitSt01.htm', 'https://www.pro-football-reference.com/players/S/SmitSt02.htm']\n",
      "Ignoring missing player id for : ('Steve Smith', {'position': 'WR', 'year': 2012, 'team': 'FA'})['https://www.pro-football-reference.com/players/S/SmitSt01.htm', 'https://www.pro-football-reference.com/players/S/SmitSt02.htm']\n",
      "Ignoring missing player id for : ('Steve Smith', {'position': 'WR', 'year': 2012, 'team': 'FA'})['https://www.pro-football-reference.com/players/S/SmitSt01.htm', 'https://www.pro-football-reference.com/players/S/SmitSt02.htm']\n",
      "Ignoring missing player id for : ('Steve Smith', {'position': 'WR', 'year': 2012, 'team': 'FA'})['https://www.pro-football-reference.com/players/S/SmitSt01.htm', 'https://www.pro-football-reference.com/players/S/SmitSt02.htm']\n",
      "Ignoring missing player id for : ('Steve Smith', {'position': 'WR', 'year': 2012, 'team': 'FA'})['https://www.pro-football-reference.com/players/S/SmitSt01.htm', 'https://www.pro-football-reference.com/players/S/SmitSt02.htm']\n",
      "Ignoring missing player id for : ('Steve Smith', {'position': 'WR', 'year': 2012, 'team': 'FA'})['https://www.pro-football-reference.com/players/S/SmitSt01.htm', 'https://www.pro-football-reference.com/players/S/SmitSt02.htm']\n",
      "Ignoring missing player id for : ('Steve Smith', {'position': 'WR', 'year': 2012, 'team': 'FA'})['https://www.pro-football-reference.com/players/S/SmitSt01.htm', 'https://www.pro-football-reference.com/players/S/SmitSt02.htm']\n",
      "Googling results for: profootballreference player Bennie Fowler III\n"
     ]
    }
   ],
   "source": [
    "ld.load_projections(historical=True)"
   ]
  },
  {
   "cell_type": "code",
   "execution_count": null,
   "metadata": {},
   "outputs": [],
   "source": []
  },
  {
   "cell_type": "code",
   "execution_count": null,
   "metadata": {},
   "outputs": [],
   "source": []
  },
  {
   "cell_type": "code",
   "execution_count": 2,
   "metadata": {
    "scrolled": true
   },
   "outputs": [],
   "source": [
    "ld.load_game_logs(historical=True)"
   ]
  },
  {
   "cell_type": "code",
   "execution_count": null,
   "metadata": {},
   "outputs": [],
   "source": []
  }
 ],
 "metadata": {
  "kernelspec": {
   "display_name": "Python 3",
   "language": "python",
   "name": "python3"
  },
  "language_info": {
   "codemirror_mode": {
    "name": "ipython",
    "version": 3
   },
   "file_extension": ".py",
   "mimetype": "text/x-python",
   "name": "python",
   "nbconvert_exporter": "python",
   "pygments_lexer": "ipython3",
   "version": "3.7.1"
  }
 },
 "nbformat": 4,
 "nbformat_minor": 2
}
