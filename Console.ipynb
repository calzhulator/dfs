{
 "cells": [
  {
   "cell_type": "code",
   "execution_count": 1,
   "metadata": {},
   "outputs": [],
   "source": [
    "import data.loader as ld"
   ]
  },
  {
   "cell_type": "code",
   "execution_count": 2,
   "metadata": {
    "collapsed": true
   },
   "outputs": [
    {
     "name": "stdout",
     "output_type": "stream",
     "text": [
      "Googling results for: profootballreference player Johnson Andre\n",
      "Googling results for: profootballreference player Hauschka Steven\n",
      "Googling results for: profootballreference player Sims Jr Steven\n"
     ]
    }
   ],
   "source": [
    "ld.load_salaries(historical=True)"
   ]
  },
  {
   "cell_type": "code",
   "execution_count": 2,
   "metadata": {
    "collapsed": true
   },
   "outputs": [
    {
     "name": "stdout",
     "output_type": "stream",
     "text": [
      "2012 1\n",
      "2012 2\n",
      "2012 3\n",
      "2012 4\n",
      "2012 5\n",
      "2012 6\n",
      "2012 7\n",
      "2012 8\n",
      "2012 9\n",
      "2012 10\n",
      "2012 11\n",
      "2012 12\n",
      "2012 13\n",
      "2012 14\n",
      "2012 15\n",
      "2012 16\n",
      "2012 17\n",
      "2017 15\n",
      "2017 16\n",
      "2017 17\n",
      "2018 1\n",
      "2018 2\n",
      "2018 3\n",
      "2018 4\n",
      "2018 5\n",
      "2018 6\n",
      "2018 7\n",
      "2018 8\n",
      "2018 9\n",
      "2018 10\n",
      "2018 11\n",
      "2018 12\n",
      "2018 13\n",
      "2018 14\n",
      "2018 15\n",
      "2018 16\n",
      "2018 17\n",
      "2019 1\n",
      "2019 2\n",
      "2019 3\n",
      "2019 4\n",
      "2019 5\n",
      "2019 6\n",
      "2019 7\n",
      "2019 8\n",
      "2019 9\n",
      "2019 10\n",
      "2019 11\n",
      "2019 12\n",
      "2019 13\n",
      "2019 14\n",
      "2019 15\n",
      "2019 16\n",
      "2019 17\n",
      "Googling results for: profootballreference player Andrew Wellock\n",
      "Ignoring missing player id for : ('Andrew Wellock', {'position': 'K', 'year': 2019, 'team': 'CAR'})[]\n",
      "Googling results for: profootballreference player Garrett Rivas\n",
      "Ignoring missing player id for : ('Garrett Rivas', {'position': 'K', 'year': 2019, 'team': 'TB'})[]\n",
      "Googling results for: profootballreference player Carlos Martinez\n",
      "Ignoring missing player id for : ('Carlos Martinez', {'position': 'K', 'year': 2019, 'team': 'DAL'})[]\n",
      "Googling results for: profootballreference player Andrew Jacas\n",
      "Ignoring missing player id for : ('Andrew Jacas', {'position': 'K', 'year': 2019, 'team': 'SF'})[]\n"
     ]
    }
   ],
   "source": [
    "ld.load_projections(historical=True)"
   ]
  },
  {
   "cell_type": "code",
   "execution_count": 2,
   "metadata": {
    "scrolled": true
   },
   "outputs": [],
   "source": [
    "ld.load_game_logs(historical=True)"
   ]
  },
  {
   "cell_type": "code",
   "execution_count": null,
   "metadata": {},
   "outputs": [],
   "source": []
  }
 ],
 "metadata": {
  "kernelspec": {
   "display_name": "Python 3",
   "language": "python",
   "name": "python3"
  },
  "language_info": {
   "codemirror_mode": {
    "name": "ipython",
    "version": 3
   },
   "file_extension": ".py",
   "mimetype": "text/x-python",
   "name": "python",
   "nbconvert_exporter": "python",
   "pygments_lexer": "ipython3",
   "version": "3.7.1"
  }
 },
 "nbformat": 4,
 "nbformat_minor": 2
}
